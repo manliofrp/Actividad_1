{
  "nbformat": 4,
  "nbformat_minor": 0,
  "metadata": {
    "colab": {
      "provenance": [],
      "authorship_tag": "ABX9TyOZQCWfVSlWaSXEAStMBGL/",
      "include_colab_link": true
    },
    "kernelspec": {
      "name": "python3",
      "display_name": "Python 3"
    },
    "language_info": {
      "name": "python"
    }
  },
  "cells": [
    {
      "cell_type": "markdown",
      "metadata": {
        "id": "view-in-github",
        "colab_type": "text"
      },
      "source": [
        "<a href=\"https://colab.research.google.com/github/manliofrp/Actividad_1/blob/main/1_Extraccion_Datos.ipynb\" target=\"_parent\"><img src=\"https://colab.research.google.com/assets/colab-badge.svg\" alt=\"Open In Colab\"/></a>"
      ]
    },
    {
      "cell_type": "code",
      "execution_count": 1,
      "metadata": {
        "id": "YhlA9HLttxst"
      },
      "outputs": [],
      "source": [
        "#Importar libreias\n",
        "import pandas as pd\n",
        "import numpy as np\n",
        "import matplotlib.pyplot as plt\n",
        "import seaborn as sns"
      ]
    },
    {
      "cell_type": "code",
      "source": [
        "# Cargar archivo csv desde equipo\n",
        "from google.colab import files\n",
        "files.upload()"
      ],
      "metadata": {
        "id": "TQeFXVIOwUHO"
      },
      "execution_count": null,
      "outputs": []
    },
    {
      "cell_type": "code",
      "source": [
        "# Carga desde un archivo .xlsx sin indice\n",
        "df = pd.read_excel('Antigüedad de saldos 17.03.2023.xlsx')\n",
        "df"
      ],
      "metadata": {
        "id": "-pVVDFJEwor1"
      },
      "execution_count": null,
      "outputs": []
    },
    {
      "cell_type": "code",
      "source": [
        "# Verificamos informacion del DataFrame\n",
        "df.info()"
      ],
      "metadata": {
        "id": "Ih1FnTCTyc4r"
      },
      "execution_count": null,
      "outputs": []
    },
    {
      "cell_type": "code",
      "source": [
        "df.head()"
      ],
      "metadata": {
        "id": "6vp2Sz0HyhsP"
      },
      "execution_count": null,
      "outputs": []
    },
    {
      "cell_type": "code",
      "source": [
        "filtro1=df[df[\"NOMBRE\"] == \"HELVEX\"]\n",
        "filtro1"
      ],
      "metadata": {
        "id": "Z6td56XOy6zd"
      },
      "execution_count": null,
      "outputs": []
    },
    {
      "cell_type": "code",
      "source": [
        "# Filtro por filas\n",
        "filtro2 = df.iloc[[8,  24, 100], : ]\n",
        "filtro2"
      ],
      "metadata": {
        "id": "wWGbAULBzgRQ"
      },
      "execution_count": null,
      "outputs": []
    },
    {
      "cell_type": "code",
      "source": [
        "filtro3 = df.iloc[3:11,:]\n",
        "filtro3"
      ],
      "metadata": {
        "id": "ERAmteTuzgKO"
      },
      "execution_count": null,
      "outputs": []
    },
    {
      "cell_type": "code",
      "source": [
        "# Filtro por columnas\n",
        "filtro4 = df.iloc[:,1:3]\n",
        "filtro4"
      ],
      "metadata": {
        "id": "1UzzRzWR0nIr"
      },
      "execution_count": null,
      "outputs": []
    },
    {
      "cell_type": "code",
      "source": [
        "df1 = pd.read_excel('Antigüedad de saldos 17.03.2023.xlsx', index_col=1)\n",
        "df1"
      ],
      "metadata": {
        "id": "DsXhVbwO1d0V"
      },
      "execution_count": null,
      "outputs": []
    },
    {
      "cell_type": "code",
      "source": [
        "# Filtro de filas vs columnas\n",
        "filtro5 = df1.loc[[\"HELVEX\",\"DONGA HWASUNG MEXICO\"],[\"MONTO ADEUDADO\"]]\n",
        "filtro5"
      ],
      "metadata": {
        "id": "HYoWUbNX1r5p"
      },
      "execution_count": null,
      "outputs": []
    },
    {
      "cell_type": "markdown",
      "source": [
        "FILTROS BASICOS PARA VARIABLES CUANTITATIVAS"
      ],
      "metadata": {
        "id": "iEpVOCcf2aPn"
      }
    },
    {
      "cell_type": "code",
      "source": [
        "filtro6 = df[df[\"MONTO ADEUDADO\"] > 70000]\n",
        "filtro6"
      ],
      "metadata": {
        "id": "ax-3NoGc2LsE"
      },
      "execution_count": null,
      "outputs": []
    },
    {
      "cell_type": "markdown",
      "source": [
        "FILTROS BASICOS CON CONECTORES LOGICOS"
      ],
      "metadata": {
        "id": "GbVbbq4p24_p"
      }
    },
    {
      "cell_type": "code",
      "source": [
        "# Filtro Y\n",
        "filtro7 = df[(df[\"MONTO ADEUDADO\"] < 6000) & (df[\"FECHA_FACTURA\"] == \"2023-03-14\")]\n",
        "filtro7"
      ],
      "metadata": {
        "id": "trJp-UFZ277D"
      },
      "execution_count": null,
      "outputs": []
    },
    {
      "cell_type": "code",
      "source": [
        "# Filtro O\n",
        "filtro8 = df[(df[\"MONTO ADEUDADO\"] < 6000) | (df[\"FECHA_FACTURA\"] == \"2023-03-14\")]\n",
        "filtro8"
      ],
      "metadata": {
        "id": "DD-ig5N83j2s"
      },
      "execution_count": null,
      "outputs": []
    },
    {
      "cell_type": "code",
      "source": [
        "# Filtro NOT\n",
        "filtro9 = df[~(df[\"MONTO ADEUDADO\"] >= 6000) & ~(df[\"FECHA_FACTURA\"] == \"2023-03-14\")]\n",
        "filtro9"
      ],
      "metadata": {
        "id": "DuRuAYBq3xEt"
      },
      "execution_count": null,
      "outputs": []
    },
    {
      "cell_type": "code",
      "source": [
        "from google.colab import files\n",
        "files.download(\"Entregable1.csv\")"
      ],
      "metadata": {
        "colab": {
          "base_uri": "https://localhost:8080/",
          "height": 315
        },
        "id": "P7-sKAyb3zJH",
        "outputId": "0f2858c2-2f28-4002-dea2-4e072dbc0909"
      },
      "execution_count": 20,
      "outputs": [
        {
          "output_type": "error",
          "ename": "FileNotFoundError",
          "evalue": "ignored",
          "traceback": [
            "\u001b[0;31m---------------------------------------------------------------------------\u001b[0m",
            "\u001b[0;31mFileNotFoundError\u001b[0m                         Traceback (most recent call last)",
            "\u001b[0;32m<ipython-input-20-81e2290349a3>\u001b[0m in \u001b[0;36m<cell line: 2>\u001b[0;34m()\u001b[0m\n\u001b[1;32m      1\u001b[0m \u001b[0;32mfrom\u001b[0m \u001b[0mgoogle\u001b[0m\u001b[0;34m.\u001b[0m\u001b[0mcolab\u001b[0m \u001b[0;32mimport\u001b[0m \u001b[0mfiles\u001b[0m\u001b[0;34m\u001b[0m\u001b[0;34m\u001b[0m\u001b[0m\n\u001b[0;32m----> 2\u001b[0;31m \u001b[0mfiles\u001b[0m\u001b[0;34m.\u001b[0m\u001b[0mdownload\u001b[0m\u001b[0;34m(\u001b[0m\u001b[0;34m\"Entregable1.csv\"\u001b[0m\u001b[0;34m)\u001b[0m\u001b[0;34m\u001b[0m\u001b[0;34m\u001b[0m\u001b[0m\n\u001b[0m",
            "\u001b[0;32m/usr/local/lib/python3.10/dist-packages/google/colab/files.py\u001b[0m in \u001b[0;36mdownload\u001b[0;34m(filename)\u001b[0m\n\u001b[1;32m    223\u001b[0m   \u001b[0;32mif\u001b[0m \u001b[0;32mnot\u001b[0m \u001b[0m_os\u001b[0m\u001b[0;34m.\u001b[0m\u001b[0mpath\u001b[0m\u001b[0;34m.\u001b[0m\u001b[0mexists\u001b[0m\u001b[0;34m(\u001b[0m\u001b[0mfilename\u001b[0m\u001b[0;34m)\u001b[0m\u001b[0;34m:\u001b[0m\u001b[0;34m\u001b[0m\u001b[0;34m\u001b[0m\u001b[0m\n\u001b[1;32m    224\u001b[0m     \u001b[0mmsg\u001b[0m \u001b[0;34m=\u001b[0m \u001b[0;34m'Cannot find file: {}'\u001b[0m\u001b[0;34m.\u001b[0m\u001b[0mformat\u001b[0m\u001b[0;34m(\u001b[0m\u001b[0mfilename\u001b[0m\u001b[0;34m)\u001b[0m\u001b[0;34m\u001b[0m\u001b[0;34m\u001b[0m\u001b[0m\n\u001b[0;32m--> 225\u001b[0;31m     \u001b[0;32mraise\u001b[0m \u001b[0mFileNotFoundError\u001b[0m\u001b[0;34m(\u001b[0m\u001b[0mmsg\u001b[0m\u001b[0;34m)\u001b[0m  \u001b[0;31m# pylint: disable=undefined-variable\u001b[0m\u001b[0;34m\u001b[0m\u001b[0;34m\u001b[0m\u001b[0m\n\u001b[0m\u001b[1;32m    226\u001b[0m \u001b[0;34m\u001b[0m\u001b[0m\n\u001b[1;32m    227\u001b[0m   \u001b[0mcomm_manager\u001b[0m \u001b[0;34m=\u001b[0m \u001b[0m_IPython\u001b[0m\u001b[0;34m.\u001b[0m\u001b[0mget_ipython\u001b[0m\u001b[0;34m(\u001b[0m\u001b[0;34m)\u001b[0m\u001b[0;34m.\u001b[0m\u001b[0mkernel\u001b[0m\u001b[0;34m.\u001b[0m\u001b[0mcomm_manager\u001b[0m\u001b[0;34m\u001b[0m\u001b[0;34m\u001b[0m\u001b[0m\n",
            "\u001b[0;31mFileNotFoundError\u001b[0m: Cannot find file: Entregable1.csv"
          ]
        }
      ]
    }
  ]
}